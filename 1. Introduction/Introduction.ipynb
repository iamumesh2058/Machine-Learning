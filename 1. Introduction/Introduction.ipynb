{
 "cells": [
  {
   "cell_type": "markdown",
   "id": "41a4d97d",
   "metadata": {},
   "source": [
    "### AI vs ML vs DL"
   ]
  },
  {
   "cell_type": "code",
   "execution_count": null,
   "id": "74c90b23",
   "metadata": {},
   "outputs": [],
   "source": [
    "AI : A technique which enables machine to mimic human behaviour.\n",
    "ML : Subset of AI technique which use statistical methid to enable machine to improve with experience.\n",
    "DL : Subset of ML which make the computation of multi-layer neural Feasible"
   ]
  },
  {
   "cell_type": "markdown",
   "id": "4d76701b",
   "metadata": {},
   "source": [
    "### Machine Learning"
   ]
  },
  {
   "cell_type": "code",
   "execution_count": null,
   "id": "f805defe",
   "metadata": {},
   "outputs": [],
   "source": [
    "\n",
    "Machine Learning\n",
    "    It can be explained as automating and imporving the learning process of computers based on their experiences without \n",
    "    being actually programmed i.e. without human assistance.\n",
    "    \n",
    "How does Machine Learning Work?\n",
    "\n",
    "                Training Data\n",
    "    \n",
    "                      ↓\n",
    "        \n",
    "                Train The ML        →      Desired Accuracy    →     Successful Model\n",
    "                  Algorithm\n",
    "                \n",
    "                      ↓\n",
    "                    \n",
    "                Model Input                    ↑\n",
    "                    Data\n",
    "                    \n",
    "                      ↓\n",
    "                        \n",
    "New Input  →     ML Algorithm        →     Prediction\n",
    "    Data\n",
    "    \n"
   ]
  },
  {
   "cell_type": "markdown",
   "id": "eaf2e4c8",
   "metadata": {},
   "source": [
    "### Types of Machine Learning"
   ]
  },
  {
   "cell_type": "code",
   "execution_count": null,
   "id": "9f8ec308",
   "metadata": {},
   "outputs": [],
   "source": [
    "Types of macihne learning problems\n",
    "\n",
    "1. On basis of the nature of the learnig signal or feedback available to a learning system\n",
    "    a. Supervised Learning\n",
    "        -> It is presented with example inputs and their desired outputs and then finding patterns and connections between the input and output.\n",
    "        -> Goal is to learn a general rule that maps inputs to outputs.\n",
    "       \n",
    "    b. Unsupervised Learning\n",
    "        -> It has to find its own structure in its input.\n",
    "        -> Goal is to discover hidden patterns in data.\n",
    "    \n",
    "    c. Semi-supervised Learning\n",
    "        -> Problems having large amout onf input data and only some of the dta is labeled.\n",
    "        -> These problems sit in between both supervised and unsupervised learning.\n",
    "    \n",
    "    d.  Reinforcement Learning\n",
    "        -> The program is provided feedback in terms of rewards and punishment as it navigates its problem space.\n",
    "\n",
    "\n",
    "2. Two most common use cases of Supervised learning are:\n",
    "    a. Classification\n",
    "        -> Inputs are divided into two or more classes\n",
    "    b. Regression\n",
    "        -> It predicts a numeric value and outputs are continuous rather than discrete.\n",
    "        \n",
    "        \n",
    "3. Most common Unsupervised learning are:\n",
    "    a. Clustering\n",
    "        -> Inputs is to be divided into groups. Unlike in classificaiton, the groups are not known beforehand, making this typically an unsupervised task.\n",
    "    b. Density estimation\n",
    "        -> The task is to find the distribution of inputs in some space.\n",
    "    c. Dimensionality reduction\n",
    "        -> It simplifies inputs by mapping them into a lower-dimentional space.\n",
    "    d. K-means Algorithm\n",
    "        \n"
   ]
  },
  {
   "cell_type": "markdown",
   "id": "5847d85d",
   "metadata": {},
   "source": [
    "### Supervised Learning Example and Use Cases"
   ]
  },
  {
   "cell_type": "code",
   "execution_count": null,
   "id": "60a97e53",
   "metadata": {},
   "outputs": [],
   "source": [
    "-> Cortona or Speech Automation\n",
    "-> Weather App\n",
    "-> Biometric Attendenc\n",
    "-> To predict the credit card holders (BanK)\n",
    "-> To predict patient readmission rates (Hospital)\n",
    "-> To analyze products customers buy together (Retial)"
   ]
  },
  {
   "cell_type": "markdown",
   "id": "0871c259",
   "metadata": {},
   "source": [
    "### Unsupervised Learning Example and Use Cases"
   ]
  },
  {
   "cell_type": "code",
   "execution_count": null,
   "id": "a45d6bd6",
   "metadata": {},
   "outputs": [],
   "source": [
    "-> Classifying friend in party on basis of gender, age etc.\n",
    "-> Classifying players on basis of jersey, team, playing position etc.\n",
    "-> To segment customers by Behavioural charateristics (Bank)\n",
    "-> To categorize MRI data by Normal or Abnormal (Hospital)\n",
    "-> To recommend products to customers based on past purchase (Retial)"
   ]
  },
  {
   "cell_type": "markdown",
   "id": "522131d2",
   "metadata": {},
   "source": [
    "### Reinforcement Learning Example and Use Cases"
   ]
  },
  {
   "cell_type": "code",
   "execution_count": null,
   "id": "01092187",
   "metadata": {},
   "outputs": [],
   "source": [
    "-> To create \"Next Best Offer\". (Bank)\n",
    "-> Reduce excess stock with dynamic pricing. (Retail)"
   ]
  }
 ],
 "metadata": {
  "kernelspec": {
   "display_name": "Python 3",
   "language": "python",
   "name": "python3"
  },
  "language_info": {
   "codemirror_mode": {
    "name": "ipython",
    "version": 3
   },
   "file_extension": ".py",
   "mimetype": "text/x-python",
   "name": "python",
   "nbconvert_exporter": "python",
   "pygments_lexer": "ipython3",
   "version": "3.9.4"
  }
 },
 "nbformat": 4,
 "nbformat_minor": 5
}
