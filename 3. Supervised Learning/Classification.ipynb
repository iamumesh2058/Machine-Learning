{
 "cells": [
  {
   "cell_type": "markdown",
   "id": "2b4053e1",
   "metadata": {},
   "source": [
    "### Getting started with Classification"
   ]
  },
  {
   "cell_type": "code",
   "execution_count": 1,
   "id": "1cd7b871",
   "metadata": {
    "collapsed": true
   },
   "outputs": [],
   "source": [
    "# Classification is the task of “classifying things” into sub-categories\n",
    "\n",
    "\n",
    "# Types of Classificaiton:\n",
    "\n",
    "# 1. Binary Classification -> to categorize data into 2 distinct classes.\n",
    "# 2. Multiclass Classification -> The number of classes is more than 2.\n"
   ]
  },
  {
   "cell_type": "markdown",
   "id": "7fd2135a",
   "metadata": {},
   "source": [
    "### How does classification works?"
   ]
  },
  {
   "cell_type": "code",
   "execution_count": null,
   "id": "a213503d",
   "metadata": {
    "collapsed": true
   },
   "outputs": [],
   "source": [
    "# Suppose we have to predict whether a given patient has a certain disease or not, on the basis of 3 variables, called features.\n",
    "\n",
    "# This means there are two possible outcomes: \n",
    "\n",
    "# The patient has the said disease. Basically, a result labeled “Yes” or “True”.\n",
    "# The patient is disease-free. A result labeled “No” or “False”.\n",
    "\n",
    "\n",
    "# The patient has the said disease. Basically, a result labeled “Yes” or “True”.\n",
    "# The patient is disease-free. A result labeled “No” or “False”.\n",
    "\n",
    "# This is a binary classification problem. \n",
    "# We have a set of observations called the training data set, which comprises sample data with actual classification results. \n",
    "# We train a model, called Classifier on this data set, and use that model to predict whether a certain patient will have the \n",
    "# disease or not. \n",
    "\n",
    "\n",
    "# The outcome, thus now depends upon :  \n",
    "\n",
    "# How well these features are able to “map” to the outcome.\n",
    "# The quality of our data set. By quality, I refer to statistical and Mathematical qualities.\n",
    "# How well our Classifier generalizes this relationship between the features and the outcome.\n",
    "# The values of the x1 and x2.\n"
   ]
  },
  {
   "cell_type": "markdown",
   "id": "236a6c68",
   "metadata": {},
   "source": [
    "### Types of Classifiers"
   ]
  },
  {
   "cell_type": "code",
   "execution_count": null,
   "id": "08cdd8cd",
   "metadata": {
    "collapsed": true
   },
   "outputs": [],
   "source": [
    "# Types of Classifiers (algorithms)\n",
    "\n",
    "# There are various types of classifiers. Some of them are : \n",
    "\n",
    "# Linear Classifiers: Logistic Regression\n",
    "# Tree-Based Classifiers: Decision Tree Classifier\n",
    "# Support Vector Machines\n",
    "# Artificial Neural Networks\n",
    "# Bayesian Regression\n",
    "# Gaussian Naive Bayes Classifiers\n",
    "# Stochastic Gradient Descent (SGD) Classifier\n",
    "# Ensemble Methods: Random Forests, AdaBoost, Bagging Classifier, Voting Classifier, ExtraTrees Classifier"
   ]
  },
  {
   "cell_type": "markdown",
   "id": "769b29fc",
   "metadata": {},
   "source": [
    "### Practical Applications of Classification"
   ]
  },
  {
   "cell_type": "code",
   "execution_count": null,
   "id": "222c8ac0",
   "metadata": {
    "collapsed": true
   },
   "outputs": [],
   "source": [
    "# Google’s self-driving car uses deep learning-enabled classification techniques which enables it to detect and classify obstacles.\n",
    "# Spam E-mail filtering is one of the most widespread and well-recognized uses of Classification techniques.\n",
    "# Detecting Health Problems, Facial Recognition, Speech Recognition, Object Detection, and Sentiment Analysis all use Classification at their core."
   ]
  },
  {
   "cell_type": "markdown",
   "id": "daadc157",
   "metadata": {},
   "source": [
    "### Implementation"
   ]
  },
  {
   "cell_type": "code",
   "execution_count": 2,
   "id": "48d60df5",
   "metadata": {},
   "outputs": [
    {
     "name": "stdout",
     "output_type": "stream",
     "text": [
      "Accuracy of Gaussain Naive Bayes :  0.9333333333333333\n",
      "Accuracy of Decision Tree Classifier :  0.9555555555555556\n",
      "Accuracy of Support Vector Machine :  1.0\n"
     ]
    }
   ],
   "source": [
    "# Python program to perform classification on Irir dataset\n",
    "\n",
    "# Importing the required libaries\n",
    "\n",
    "import numpy as np\n",
    "import pandas as pd\n",
    "from sklearn.model_selection import train_test_split\n",
    "from sklearn.metrics import accuracy_score\n",
    "from sklearn import datasets\n",
    "from sklearn import svm\n",
    "from sklearn.tree import DecisionTreeClassifier\n",
    "from sklearn.naive_bayes import GaussianNB\n",
    "\n",
    "# import the irir dataset\n",
    "iris = datasets.load_iris()\n",
    "x = iris.data\n",
    "y = iris.target\n",
    "\n",
    "# splitting x and y into training and testing sets\n",
    "\n",
    "x_train, x_test, y_train, y_test = train_test_split(x, y, test_size=0.3, random_state =1)\n",
    "\n",
    "# Gaussian Naive Bayes\n",
    "gnb = GaussianNB()\n",
    "\n",
    "# Train the model\n",
    "gnb.fit(x_train, y_train)\n",
    "\n",
    "# make predictions\n",
    "gnb_pred = gnb.predict(x_test)\n",
    "\n",
    "# Print the accuracy\n",
    "\n",
    "print(\"Accuracy of Gaussain Naive Bayes : \", accuracy_score(y_test, gnb_pred))\n",
    "\n",
    "\n",
    "# Decission Tree Classifier\n",
    "dt = DecisionTreeClassifier(random_state=0)\n",
    "\n",
    "#train the model\n",
    "dt.fit(x_train, y_train)\n",
    "\n",
    "# make predictions\n",
    "dt_pred = dt.predict(x_test)\n",
    "\n",
    "# Print the accuracy\n",
    "print(\"Accuracy of Decision Tree Classifier : \", accuracy_score(y_test, dt_pred))\n",
    "\n",
    "# SUPPORT VECTOR MACHINE\n",
    "svm_clf =svm.SVC(kernel='linear')\n",
    "\n",
    "# tran the model\n",
    "svm_clf.fit(x_train, y_train)\n",
    "\n",
    "# Make predictions\n",
    "svm_clf_pred = svm_clf.predict(x_test)\n",
    "\n",
    "# Print the accuracy\n",
    "print(\"Accuracy of Support Vector Machine : \", accuracy_score(y_test, svm_clf_pred))\n",
    "\n"
   ]
  },
  {
   "cell_type": "code",
   "execution_count": null,
   "id": "065a3863",
   "metadata": {},
   "outputs": [],
   "source": []
  }
 ],
 "metadata": {
  "kernelspec": {
   "display_name": "Python 3",
   "language": "python",
   "name": "python3"
  },
  "language_info": {
   "codemirror_mode": {
    "name": "ipython",
    "version": 3
   },
   "file_extension": ".py",
   "mimetype": "text/x-python",
   "name": "python",
   "nbconvert_exporter": "python",
   "pygments_lexer": "ipython3",
   "version": "3.9.4"
  }
 },
 "nbformat": 4,
 "nbformat_minor": 5
}
