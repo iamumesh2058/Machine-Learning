{
 "cells": [
  {
   "cell_type": "markdown",
   "id": "a1ef9d60",
   "metadata": {},
   "source": [
    "## Data Preprocessing in Python"
   ]
  },
  {
   "cell_type": "code",
   "execution_count": null,
   "id": "d1fd0812",
   "metadata": {},
   "outputs": [],
   "source": [
    "# Pre-processing refers to the transformations applied to our data before feeding it to the algorithm.\n",
    "\n",
    "#Data Preprocessing is a technique that is used to convert the raw data into a clean data set.\n",
    "\n"
   ]
  },
  {
   "cell_type": "code",
   "execution_count": null,
   "id": "4ae232b3",
   "metadata": {},
   "outputs": [],
   "source": [
    "'''\n",
    "3 Different data preprocessing techniques for Machine Learning\n",
    "\n",
    "1. Rescale Data\n",
    "2. Binarize Data (Make Binary)\n",
    "3. Standardize Data\n",
    "\n",
    "'''"
   ]
  },
  {
   "cell_type": "markdown",
   "id": "1330c803",
   "metadata": {},
   "source": [
    "### Rescale Data"
   ]
  },
  {
   "cell_type": "code",
   "execution_count": null,
   "id": "ff7f0773",
   "metadata": {},
   "outputs": [],
   "source": [
    "#    -> When our data is comprised of attributes with varying scales, many machine learning algorithms can benefit from \n",
    "#       rescaling the attributes to all have the same scale.\n",
    "\n",
    "#    -> This is useful for optimization algorithms used in the core of machine learning algorithms like gradient descent.\n",
    "\n",
    "#    -> It is also useful for algorithms that weight inputs like regression and neural networks and algorithms that use \n",
    "#       distance measures like K-Nearest Neighbors.\n",
    "\n",
    "#   -> We can rescale your data using scikit-learn using the MinMaxScaler class.\n"
   ]
  },
  {
   "cell_type": "code",
   "execution_count": 6,
   "id": "521f399c",
   "metadata": {},
   "outputs": [
    {
     "ename": "NameError",
     "evalue": "name 'Data' is not defined",
     "output_type": "error",
     "traceback": [
      "\u001b[1;31m---------------------------------------------------------------------------\u001b[0m",
      "\u001b[1;31mNameError\u001b[0m                                 Traceback (most recent call last)",
      "\u001b[1;32m<ipython-input-6-bf941c7e9f2a>\u001b[0m in \u001b[0;36m<module>\u001b[1;34m\u001b[0m\n\u001b[0;32m      5\u001b[0m \u001b[1;33m\u001b[0m\u001b[0m\n\u001b[0;32m      6\u001b[0m \u001b[0mdf\u001b[0m \u001b[1;33m=\u001b[0m \u001b[0mpd\u001b[0m\u001b[1;33m.\u001b[0m\u001b[0mread_csv\u001b[0m\u001b[1;33m(\u001b[0m\u001b[1;34m'data1.csv'\u001b[0m\u001b[1;33m)\u001b[0m\u001b[1;33m\u001b[0m\u001b[1;33m\u001b[0m\u001b[0m\n\u001b[1;32m----> 7\u001b[1;33m \u001b[0marr\u001b[0m \u001b[1;33m=\u001b[0m \u001b[0mdf\u001b[0m\u001b[1;33m[\u001b[0m\u001b[0mData\u001b[0m\u001b[1;33m.\u001b[0m\u001b[0mPrecipitation\u001b[0m\u001b[1;33m]\u001b[0m\u001b[1;33m\u001b[0m\u001b[1;33m\u001b[0m\u001b[0m\n\u001b[0m\u001b[0;32m      8\u001b[0m \u001b[1;33m\u001b[0m\u001b[0m\n\u001b[0;32m      9\u001b[0m \u001b[0mprint\u001b[0m\u001b[1;33m(\u001b[0m\u001b[0marr\u001b[0m\u001b[1;33m)\u001b[0m\u001b[1;33m\u001b[0m\u001b[1;33m\u001b[0m\u001b[0m\n",
      "\u001b[1;31mNameError\u001b[0m: name 'Data' is not defined"
     ]
    }
   ],
   "source": [
    "import pandas as pd\n",
    "import numpy as np\n",
    "import scipy\n",
    "from sklearn.preprocessing import MinMaxScaler\n",
    "\n",
    "df = pd.read_csv('data1.csv')\n",
    "\n",
    "print(df)\n",
    "# arr = df[Data.Precipitation]\n",
    "\n",
    "# print(arr)"
   ]
  },
  {
   "cell_type": "code",
   "execution_count": null,
   "id": "3ae47307",
   "metadata": {},
   "outputs": [],
   "source": []
  }
 ],
 "metadata": {
  "kernelspec": {
   "display_name": "Python 3",
   "language": "python",
   "name": "python3"
  },
  "language_info": {
   "codemirror_mode": {
    "name": "ipython",
    "version": 3
   },
   "file_extension": ".py",
   "mimetype": "text/x-python",
   "name": "python",
   "nbconvert_exporter": "python",
   "pygments_lexer": "ipython3",
   "version": "3.9.4"
  }
 },
 "nbformat": 4,
 "nbformat_minor": 5
}
