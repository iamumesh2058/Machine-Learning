{
 "cells": [
  {
   "cell_type": "markdown",
   "id": "8ba19c9d",
   "metadata": {},
   "source": [
    "### Introduction to Data in Machine Learning"
   ]
  },
  {
   "cell_type": "code",
   "execution_count": null,
   "id": "28d76ed4",
   "metadata": {},
   "outputs": [],
   "source": [
    "'''\n",
    "DATA\n",
    "    -> It can be any unprocessed fact, value, text, sound, or picture that is not being interpreted and analyzed.\n",
    "    \n",
    "INFORMATION\n",
    "    -> Data that has been interpreted and manipulated and has now some meaningful inference for the users.\n",
    "    \n",
    "KNOWLEDGE\n",
    "    -> Combination of inferred information, experiences, learning, and insights.\n",
    "    -> Results in awareness or concept building for an individual or organization.\n",
    "'''"
   ]
  },
  {
   "cell_type": "markdown",
   "id": "3ac5848d",
   "metadata": {},
   "source": [
    "### How we split data in Machine Learning?"
   ]
  },
  {
   "cell_type": "code",
   "execution_count": null,
   "id": "46852d71",
   "metadata": {},
   "outputs": [],
   "source": [
    "'''\n",
    "Training Data\n",
    "    -> The data that our model actually sees and learns from.\n",
    "    \n",
    "Validation Data\n",
    "    -> The part of the data that is used to do a frequent evaluation of the model, fit on the training dataset along with \n",
    "    improving involved hyperparametes.\n",
    "    -> This data plays its part when the model is actually training.\n",
    "    \n",
    "Testing Data\n",
    "    -> Once our model is completely trained, testing data provideds an unbiased evaluation.\n",
    "    -> When we feed int the inputs of Testing data, oiur model will predict some values.\n",
    "'''"
   ]
  },
  {
   "cell_type": "markdown",
   "id": "6ac0c14d",
   "metadata": {},
   "source": [
    "### Different Forms of Data"
   ]
  },
  {
   "cell_type": "code",
   "execution_count": null,
   "id": "b0437f1b",
   "metadata": {},
   "outputs": [],
   "source": [
    "'''\n",
    "1. Numeric Data\n",
    "2. Categorical Data\n",
    "3. Ordinal Data\n",
    "'''"
   ]
  },
  {
   "cell_type": "markdown",
   "id": "33eed698",
   "metadata": {},
   "source": [
    "### Understanding Data Processing"
   ]
  },
  {
   "cell_type": "code",
   "execution_count": null,
   "id": "efa195e4",
   "metadata": {},
   "outputs": [],
   "source": [
    "'''\n",
    "Data Processing is the task of converting data from a given form to a much more usable and desired form i.e. making it more \n",
    "meaningful and informative. Using Machine Learning algorithms, mathematical modeling, and statistical knowledge, this entire \n",
    "process can be automated. The output of this complete process can be in any desired form like graphs, videos, charts, tables, \n",
    "images, and many more, depending on the task we are performing and the requirements of the machine. \n",
    "\n",
    "\n",
    "Steps in Data Processing:\n",
    "    1. Collection\n",
    "    2. Preparation\n",
    "    3. Input\n",
    "    4. Processing\n",
    "    5. Output\n",
    "    6. Storage\n",
    "'''"
   ]
  },
  {
   "cell_type": "markdown",
   "id": "435179f0",
   "metadata": {},
   "source": [
    "### Create Test DataSets using Sklearn"
   ]
  },
  {
   "cell_type": "code",
   "execution_count": null,
   "id": "2629f9c3",
   "metadata": {},
   "outputs": [],
   "source": [
    "# It provides a greate sample dataset generator to create own custom datase."
   ]
  },
  {
   "cell_type": "code",
   "execution_count": 4,
   "id": "1b093c3f",
   "metadata": {},
   "outputs": [
    {
     "data": {
      "image/png": "[encoded data removed]",
      "text/plain": [
       "<Figure size 432x288 with 1 Axes>"
      ]
     },
     "metadata": {},
     "output_type": "display_data"
    },
    {
     "data": {
      "text/plain": [
       "<Figure size 432x288 with 0 Axes>"
      ]
     },
     "metadata": {},
     "output_type": "display_data"
    }
   ],
   "source": [
    "# importing libraries\n",
    "from sklearn.datasets import make_blobs\n",
    "\n",
    "# matplotlib for ploting\n",
    "from matplotlib import pyplot as plt\n",
    "from matplotlib import style\n",
    "\n",
    "style.use(\"fivethirtyeight\")\n",
    " \n",
    "X, y = make_blobs(n_samples = 100, centers = 3,\n",
    "               cluster_std = 1, n_features = 2)\n",
    " \n",
    "plt.scatter(X[:, 0], X[:, 1], s = 40, color = 'g')\n",
    "plt.xlabel(\"X\")\n",
    "plt.ylabel(\"Y\")\n",
    " \n",
    "plt.show()\n",
    "plt.clf()"
   ]
  },
  {
   "cell_type": "code",
   "execution_count": 6,
   "id": "2f09202d",
   "metadata": {},
   "outputs": [
    {
     "ename": "ImportError",
     "evalue": "cannot import name 'make_squares' from 'sklearn.datasets' (c:\\users\\umesh\\appdata\\local\\programs\\python\\python39\\lib\\site-packages\\sklearn\\datasets\\__init__.py)",
     "output_type": "error",
     "traceback": [
      "\u001b[1;31m---------------------------------------------------------------------------\u001b[0m",
      "\u001b[1;31mImportError\u001b[0m                               Traceback (most recent call last)",
      "\u001b[1;32m<ipython-input-6-1000d1537fc2>\u001b[0m in \u001b[0;36m<module>\u001b[1;34m\u001b[0m\n\u001b[0;32m      6\u001b[0m \u001b[1;33m\u001b[0m\u001b[0m\n\u001b[0;32m      7\u001b[0m \u001b[1;31m# Creating Test DataSets using sklearn.datasets.make_circles\u001b[0m\u001b[1;33m\u001b[0m\u001b[1;33m\u001b[0m\u001b[1;33m\u001b[0m\u001b[0m\n\u001b[1;32m----> 8\u001b[1;33m \u001b[1;32mfrom\u001b[0m \u001b[0msklearn\u001b[0m\u001b[1;33m.\u001b[0m\u001b[0mdatasets\u001b[0m \u001b[1;32mimport\u001b[0m \u001b[0mmake_squares\u001b[0m\u001b[1;33m\u001b[0m\u001b[1;33m\u001b[0m\u001b[0m\n\u001b[0m\u001b[0;32m      9\u001b[0m \u001b[1;32mfrom\u001b[0m \u001b[0mmatplotlib\u001b[0m \u001b[1;32mimport\u001b[0m \u001b[0mpyplot\u001b[0m \u001b[1;32mas\u001b[0m \u001b[0mplt\u001b[0m\u001b[1;33m\u001b[0m\u001b[1;33m\u001b[0m\u001b[0m\n\u001b[0;32m     10\u001b[0m \u001b[1;32mfrom\u001b[0m \u001b[0mmatplotlib\u001b[0m \u001b[1;32mimport\u001b[0m \u001b[0mstyle\u001b[0m\u001b[1;33m\u001b[0m\u001b[1;33m\u001b[0m\u001b[0m\n",
      "\u001b[1;31mImportError\u001b[0m: cannot import name 'make_squares' from 'sklearn.datasets' (c:\\users\\umesh\\appdata\\local\\programs\\python\\python39\\lib\\site-packages\\sklearn\\datasets\\__init__.py)"
     ]
    }
   ],
   "source": [
    "# Other datasets types\n",
    "\n",
    "# make_moons\n",
    "# make_circles\n",
    "\n",
    "\n",
    "# Creating Test DataSets using sklearn.datasets.make_circles\n",
    "from sklearn.datasets import make_circle\n",
    "from matplotlib import pyplot as plt\n",
    "from matplotlib import style\n",
    " \n",
    "style.use(\"fivethirtyeight\")\n",
    " \n",
    "X, y = make_circles(n_samples = 100, noise = 0.02)\n",
    "plt.scatter(X[:, 0], X[:, 1], s = 40, color ='g')\n",
    "plt.xlabel(\"X\")\n",
    "plt.ylabel(\"Y\")\n",
    " \n",
    "plt.show()\n",
    "plt.clf()"
   ]
  },
  {
   "cell_type": "code",
   "execution_count": null,
   "id": "751a0721",
   "metadata": {},
   "outputs": [],
   "source": []
  }
 ],
 "metadata": {
  "kernelspec": {
   "display_name": "Python 3",
   "language": "python",
   "name": "python3"
  },
  "language_info": {
   "codemirror_mode": {
    "name": "ipython",
    "version": 3
   },
   "file_extension": ".py",
   "mimetype": "text/x-python",
   "name": "python",
   "nbconvert_exporter": "python",
   "pygments_lexer": "ipython3",
   "version": "3.9.4"
  }
 },
 "nbformat": 4,
 "nbformat_minor": 5
}
