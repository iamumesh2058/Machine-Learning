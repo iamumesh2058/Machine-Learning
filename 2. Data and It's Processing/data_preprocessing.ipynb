{
 "cells": [
  {
   "cell_type": "markdown",
   "id": "9cbdbe15",
   "metadata": {},
   "source": [
    "## Data Preprocessing in Python"
   ]
  },
  {
   "cell_type": "code",
   "execution_count": null,
   "id": "155e9f0f",
   "metadata": {},
   "outputs": [],
   "source": [
    "# Pre-processing refers to the transformations applied to our data before feeding it to the algorithm.\n",
    "\n",
    "#Data Preprocessing is a technique that is used to convert the raw data into a clean data set.\n",
    "\n"
   ]
  },
  {
   "cell_type": "code",
   "execution_count": null,
   "id": "46ae354d",
   "metadata": {},
   "outputs": [],
   "source": [
    "'''\n",
    "3 Different data preprocessing techniques for Machine Learning\n",
    "\n",
    "1. Rescale Data\n",
    "2. Binarize Data (Make Binary)\n",
    "3. Standardize Data\n",
    "\n",
    "'''"
   ]
  },
  {
   "cell_type": "markdown",
   "id": "4579148c",
   "metadata": {},
   "source": [
    "### Rescale Data"
   ]
  },
  {
   "cell_type": "code",
   "execution_count": null,
   "id": "87a5d523",
   "metadata": {},
   "outputs": [],
   "source": [
    "#    -> When our data is comprised of attributes with varying scales, many machine learning algorithms can benefit from \n",
    "#       rescaling the attributes to all have the same scale.\n",
    "\n",
    "#    -> This is useful for optimization algorithms used in the core of machine learning algorithms like gradient descent.\n",
    "\n",
    "#    -> It is also useful for algorithms that weight inputs like regression and neural networks and algorithms that use \n",
    "#       distance measures like K-Nearest Neighbors.\n",
    "\n",
    "#   -> We can rescale your data using scikit-learn using the MinMaxScaler class.\n"
   ]
  },
  {
   "cell_type": "code",
   "execution_count": 10,
   "id": "9dcc5bc3",
   "metadata": {},
   "outputs": [
    {
     "name": "stdout",
     "output_type": "stream",
     "text": [
      "0       0.00\n",
      "1       0.00\n",
      "2       0.16\n",
      "3       0.00\n",
      "4       0.01\n",
      "5       0.09\n",
      "6       0.05\n",
      "7       0.15\n",
      "8       0.60\n",
      "9     215.00\n",
      "10      0.00\n",
      "11      0.00\n",
      "12      0.02\n",
      "13      1.22\n",
      "14      0.00\n",
      "15      0.70\n",
      "16      0.14\n",
      "17      0.17\n",
      "18      0.05\n",
      "19      1.30\n",
      "20      0.10\n",
      "21      0.01\n",
      "22      0.08\n",
      "23      0.00\n",
      "24      0.40\n",
      "25      0.00\n",
      "26      0.00\n",
      "27      0.00\n",
      "28      0.37\n",
      "Name: Data.Precipitation, dtype: float64"
     ]
    }
   ],
   "source": [
    "import pandas as pd\n",
    "import numpy as np\n",
    "import scipy\n",
    "from sklearn.preprocessing import MinMaxScaler\n",
    "\n",
    "df = pd.read_csv('data1.csv')\n",
    "\n",
    "\n",
    "arr = df['Data.Precipitation']\n",
    "\n",
    "print(arr)"
   ]
  },
  {
   "cell_type": "code",
   "execution_count": null,
   "id": "e37aa702",
   "metadata": {},
   "outputs": [],
   "source": []
  }
 ],
 "metadata": {
  "kernelspec": {
   "display_name": "Python 3",
   "language": "python",
   "name": "python3"
  },
  "language_info": {
   "codemirror_mode": {
    "name": "ipython",
    "version": 3
   },
   "file_extension": ".py",
   "mimetype": "text/x-python",
   "name": "python",
   "nbconvert_exporter": "python",
   "pygments_lexer": "ipython3",
   "version": "3.9.4"
  }
 },
 "nbformat": 4,
 "nbformat_minor": 5
}
